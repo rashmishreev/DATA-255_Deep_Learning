{
  "nbformat": 4,
  "nbformat_minor": 0,
  "metadata": {
    "colab": {
      "provenance": [],
      "authorship_tag": "ABX9TyPvzwOu7SwFKHuIN53gkR/N",
      "include_colab_link": true
    },
    "kernelspec": {
      "name": "python3",
      "display_name": "Python 3"
    },
    "language_info": {
      "name": "python"
    }
  },
  "cells": [
    {
      "cell_type": "markdown",
      "metadata": {
        "id": "view-in-github",
        "colab_type": "text"
      },
      "source": [
        "<a href=\"https://colab.research.google.com/github/rasho330/DATA-255_Deep_Learning/blob/main/Resume_Parser.ipynb\" target=\"_parent\"><img src=\"https://colab.research.google.com/assets/colab-badge.svg\" alt=\"Open In Colab\"/></a>"
      ]
    },
    {
      "cell_type": "code",
      "execution_count": 5,
      "metadata": {
        "colab": {
          "base_uri": "https://localhost:8080/"
        },
        "id": "boNeSYwjtCME",
        "outputId": "ad6f5c4b-4b40-499c-f246-6e6232b52ba4"
      },
      "outputs": [
        {
          "output_type": "stream",
          "name": "stdout",
          "text": [
            "Collecting pdfplumber\n",
            "  Downloading pdfplumber-0.10.3-py3-none-any.whl (48 kB)\n",
            "\u001b[2K     \u001b[90m━━━━━━━━━━━━━━━━━━━━━━━━━━━━━━━━━━━━━━━━\u001b[0m \u001b[32m49.0/49.0 kB\u001b[0m \u001b[31m1.4 MB/s\u001b[0m eta \u001b[36m0:00:00\u001b[0m\n",
            "\u001b[?25hCollecting pdfminer.six==20221105 (from pdfplumber)\n",
            "  Downloading pdfminer.six-20221105-py3-none-any.whl (5.6 MB)\n",
            "\u001b[2K     \u001b[90m━━━━━━━━━━━━━━━━━━━━━━━━━━━━━━━━━━━━━━━━\u001b[0m \u001b[32m5.6/5.6 MB\u001b[0m \u001b[31m48.4 MB/s\u001b[0m eta \u001b[36m0:00:00\u001b[0m\n",
            "\u001b[?25hRequirement already satisfied: Pillow>=9.1 in /usr/local/lib/python3.10/dist-packages (from pdfplumber) (9.4.0)\n",
            "Collecting pypdfium2>=4.18.0 (from pdfplumber)\n",
            "  Downloading pypdfium2-4.23.1-py3-none-manylinux_2_17_x86_64.whl (3.0 MB)\n",
            "\u001b[2K     \u001b[90m━━━━━━━━━━━━━━━━━━━━━━━━━━━━━━━━━━━━━━━━\u001b[0m \u001b[32m3.0/3.0 MB\u001b[0m \u001b[31m78.8 MB/s\u001b[0m eta \u001b[36m0:00:00\u001b[0m\n",
            "\u001b[?25hRequirement already satisfied: charset-normalizer>=2.0.0 in /usr/local/lib/python3.10/dist-packages (from pdfminer.six==20221105->pdfplumber) (3.3.1)\n",
            "Requirement already satisfied: cryptography>=36.0.0 in /usr/local/lib/python3.10/dist-packages (from pdfminer.six==20221105->pdfplumber) (41.0.5)\n",
            "Requirement already satisfied: cffi>=1.12 in /usr/local/lib/python3.10/dist-packages (from cryptography>=36.0.0->pdfminer.six==20221105->pdfplumber) (1.16.0)\n",
            "Requirement already satisfied: pycparser in /usr/local/lib/python3.10/dist-packages (from cffi>=1.12->cryptography>=36.0.0->pdfminer.six==20221105->pdfplumber) (2.21)\n",
            "Installing collected packages: pypdfium2, pdfminer.six, pdfplumber\n",
            "Successfully installed pdfminer.six-20221105 pdfplumber-0.10.3 pypdfium2-4.23.1\n"
          ]
        }
      ],
      "source": [
        "!pip install pdfplumber\n"
      ]
    },
    {
      "cell_type": "code",
      "source": [
        "from google.colab import drive\n",
        "drive.mount('/content/drive/')"
      ],
      "metadata": {
        "colab": {
          "base_uri": "https://localhost:8080/"
        },
        "id": "ybuZvTfgpepG",
        "outputId": "8b9d27a2-479b-4a2a-8ece-3c0f5b51497c"
      },
      "execution_count": 2,
      "outputs": [
        {
          "output_type": "stream",
          "name": "stdout",
          "text": [
            "Mounted at /content/drive/\n"
          ]
        }
      ]
    },
    {
      "cell_type": "code",
      "source": [
        "import os\n",
        "os.chdir(\"/content/drive/Shareddrives/DATA255 Deep Learning/Datasets/\")\n",
        "!ls"
      ],
      "metadata": {
        "colab": {
          "base_uri": "https://localhost:8080/"
        },
        "id": "2i-wmhVEpzVq",
        "outputId": "ebe0c986-dc86-4cfd-83d0-c9a986f0096c"
      },
      "execution_count": 3,
      "outputs": [
        {
          "output_type": "stream",
          "name": "stdout",
          "text": [
            "'Cleaned dataset'\t\t    Resume_Data.csv\t resume_juanjosecarin.pdf   Untitled.ipynb\n",
            "'Job Descriptions Data Uncleaned'   Resume_Data.gsheet\t Resume_Parser.ipynb\n"
          ]
        }
      ]
    },
    {
      "cell_type": "code",
      "source": [
        "import pdfplumber"
      ],
      "metadata": {
        "id": "4AaBLs5GwVlJ"
      },
      "execution_count": 6,
      "outputs": []
    },
    {
      "cell_type": "code",
      "source": [
        "import re\n",
        "\n",
        "# Open the PDF file\n",
        "with pdfplumber.open(\"resume_juanjosecarin.pdf\") as pdf:\n",
        "    text = \"\"\n",
        "    # Extract text from all pages\n",
        "    for page in pdf.pages:\n",
        "        text += page.extract_text()\n",
        "\n",
        "    # Use regex to find bullet points under job roles\n",
        "    job_roles = re.findall(r\"(?<=•).*\", text)\n",
        "\n",
        "    # Print the extracted bullet points under job roles\n",
        "    for role in job_roles:\n",
        "        print(role.strip())\n"
      ],
      "metadata": {
        "colab": {
          "base_uri": "https://localhost:8080/"
        },
        "id": "F_TM5rPWqgB0",
        "outputId": "962133ae-c321-4fa7-a5b7-65614e16fb20"
      },
      "execution_count": 8,
      "outputs": [
        {
          "output_type": "stream",
          "name": "stdout",
          "text": [
            "Field Experiments • Data Visualization and\n",
            "Machine Learning • Applied Regression and Time Series Communication\n",
            "Machine Learning at Scale Analysis • Research Design and Applications for\n",
            "Storing and Retrieving Data • Exploring and Analyzing Data Data Analysis\n",
            "Neural Networks and Statistical • Monte Carlo Techniques\n",
            "Data Mining Learning • Numerical Methods in Finance\n",
            "Multivariate Analysis • Regression and Prediction Methods • Stochastic Models in Finance\n",
            "Time Series • Optimization Techniques • Bayesian Networks\n",
            "Designed and implemented the ETL pipeline for a predictive model of traffic on the main roads in\n",
            "Automated scripts in R to extract, transform, clean (incl. anomaly detection), and load into MySQL\n",
            "Designed an experiment for Google Spain (conducted in October 2014) to measure the impact of\n",
            "A matched-pair, cluster-randomized design, which involved selecting the test and control groups\n",
            "Applied analysis of sales and market trends to decide the direction of the department.\n",
            "Led a team of 7 people.\n",
            "Increased revenue by 6.3%, gross profit by 4.2%, and operating income by 146%, and achieved a 30%\n",
            "Promoted to head of sales after 5 months leading the sales team.\n",
            "Exceeded sales target every year from 2005 to 2007 (achieved 60% of the target in the first 3 months\n",
            "Highest-rated professor in student surveys, in 4 of the 6 terms.\n",
            "Increased ratio of students passing the course by 25%.\n"
          ]
        }
      ]
    },
    {
      "cell_type": "code",
      "source": [],
      "metadata": {
        "id": "ZnIfF-vuwupX"
      },
      "execution_count": null,
      "outputs": []
    }
  ]
}